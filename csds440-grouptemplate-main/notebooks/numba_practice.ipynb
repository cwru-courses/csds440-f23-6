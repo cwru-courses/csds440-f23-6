{
 "cells": [
  {
   "cell_type": "code",
   "execution_count": 2,
   "metadata": {},
   "outputs": [],
   "source": [
    "from numba import jit, njit, vectorize, float64, int64, boolean\n",
    "import random\n",
    "import warnings\n",
    "from typing import Tuple, Iterable\n",
    "from sting.data import FeatureType\n",
    "\n",
    "import numpy as np\n",
    "\n",
    "import sys\n",
    "import os\n",
    "\n",
    "# Get the current directory\n",
    "notebook_dir = os.getcwd()\n",
    "\n",
    "# The src directory is one level up from the notebook directory\n",
    "src_dir = os.path.join(notebook_dir, '..', 'src')\n",
    "\n",
    "# Add src to the system path\n",
    "sys.path.append(src_dir)\n",
    "\n",
    "# Now you can import the dtree module or any other modules in the src directory\n",
    "import dtree\n",
    "import optimized_dtree\n",
    "\n",
    "import util\n",
    "import optimized_util\n",
    "\n",
    "from sting.data import Feature, FeatureType\n",
    "from sting.data import parse_c45"
   ]
  },
  {
   "cell_type": "code",
   "execution_count": 3,
   "metadata": {},
   "outputs": [
    {
     "name": "stdout",
     "output_type": "stream",
     "text": [
      "[Feature(name='Color', ftype=FeatureType.NOMINAL, values=[<Color.red: 1>, <Color.blue: 2>, <Color.green: 3>]), Feature(name='Area', ftype=FeatureType.CONTINUOUS), Feature(name='Shape', ftype=FeatureType.NOMINAL, values=[<Shape.circle: 1>, <Shape.triangle: 2>, <Shape.square: 3>])]\n",
      "Accuracy: 1.00\n",
      "Precision: 1.00\n",
      "Recall: 1.00\n",
      "First Feature: Area\n",
      "CPU times: user 8 ms, sys: 1.18 ms, total: 9.18 ms\n",
      "Wall time: 9.63 ms\n"
     ]
    }
   ],
   "source": [
    "# Define the path to your data\n",
    "data_path = \"../440data/toy\"  # replace with your data path\n",
    "\n",
    "path = os.path.expanduser(data_path).split(os.sep)\n",
    "file_base = path[-1]  # -1 accesses the last entry of an iterable in Python\n",
    "\n",
    "# Load your data\n",
    "# This function might need to be replaced depending on how your data is formatted\n",
    "schema, X, y = parse_c45(file_base, data_path)\n",
    "\n",
    "print(schema)\n",
    "\n",
    "%time decision_tree = dtree.dtree(data_path, 5) \n",
    "\n",
    "#dtree('../440data/toy', 5)  # Obviously this will cause an error because you haven't implemented it yet!\n"
   ]
  },
  {
   "cell_type": "code",
   "execution_count": 4,
   "metadata": {},
   "outputs": [
    {
     "name": "stdout",
     "output_type": "stream",
     "text": [
      "CPU times: user 330 µs, sys: 95 µs, total: 425 µs\n",
      "Wall time: 367 µs\n",
      "0.9182958340544896\n"
     ]
    }
   ],
   "source": [
    "# Testing single entropy calculation\n",
    "%time label_entropy = util.calculate_entropy(y)\n",
    "print(label_entropy)"
   ]
  },
  {
   "cell_type": "code",
   "execution_count": 5,
   "metadata": {},
   "outputs": [
    {
     "name": "stdout",
     "output_type": "stream",
     "text": [
      "CPU times: user 1.46 ms, sys: 904 µs, total: 2.36 ms\n",
      "Wall time: 1.83 ms\n",
      "[0.612197222702993, 0.4601899388973658, 0.612197222702993]\n"
     ]
    }
   ],
   "source": [
    "# Testing multiple entropy calculation\n",
    "%time entropies = util.calculate_column_entropy(schema, X, y, decision_tree._determine_split_criterion(X, y, schema))\n",
    "print(entropies)"
   ]
  },
  {
   "cell_type": "code",
   "execution_count": 6,
   "metadata": {},
   "outputs": [
    {
     "name": "stdout",
     "output_type": "stream",
     "text": [
      "CPU times: user 2.62 ms, sys: 2.36 ms, total: 4.98 ms\n",
      "Wall time: 3.59 ms\n",
      "[0.30609861 0.4581059  0.30609861]\n"
     ]
    }
   ],
   "source": [
    "# Testing infogain calculation\n",
    "%time infogains = util.infogain(schema, X, y, decision_tree._determine_split_criterion(X, y, schema))\n",
    "print(infogains)"
   ]
  },
  {
   "cell_type": "code",
   "execution_count": 9,
   "metadata": {},
   "outputs": [
    {
     "name": "stdout",
     "output_type": "stream",
     "text": [
      "CPU times: user 17 µs, sys: 0 ns, total: 17 µs\n",
      "Wall time: 21 µs\n",
      "0.9182958340544896\n"
     ]
    }
   ],
   "source": [
    "# Testing optimized entropy calculation\n",
    "%time label_entropy = optimized_util.calculate_entropy(y)\n",
    "print(label_entropy)"
   ]
  },
  {
   "cell_type": "code",
   "execution_count": 12,
   "metadata": {},
   "outputs": [
    {
     "name": "stdout",
     "output_type": "stream",
     "text": [
      "CPU times: user 365 µs, sys: 201 µs, total: 566 µs\n",
      "Wall time: 502 µs\n",
      "[0.612197222702993, 0.4601899388973658, 0.612197222702993]\n"
     ]
    }
   ],
   "source": [
    "# Testing optimized multiple entropy calculation\n",
    "%time entropies = optimized_util.calculate_column_entropy(schema, X, y, decision_tree._determine_split_criterion(X, y, schema))\n",
    "print(entropies)"
   ]
  },
  {
   "cell_type": "code",
   "execution_count": 14,
   "metadata": {},
   "outputs": [
    {
     "name": "stdout",
     "output_type": "stream",
     "text": [
      "CPU times: user 338 µs, sys: 126 µs, total: 464 µs\n",
      "Wall time: 401 µs\n",
      "[0.30609861 0.4581059  0.30609861]\n"
     ]
    }
   ],
   "source": [
    "# Testing optimized infogain calculation\n",
    "%time infogains = optimized_util.infogain(schema, X, y, decision_tree._determine_split_criterion(X, y, schema))\n",
    "print(infogains)"
   ]
  },
  {
   "cell_type": "code",
   "execution_count": 18,
   "metadata": {},
   "outputs": [
    {
     "name": "stdout",
     "output_type": "stream",
     "text": [
      "[Feature(name='Color', ftype=FeatureType.NOMINAL, values=[<Color.red: 1>, <Color.blue: 2>, <Color.green: 3>]), Feature(name='Area', ftype=FeatureType.CONTINUOUS), Feature(name='Shape', ftype=FeatureType.NOMINAL, values=[<Shape.circle: 1>, <Shape.triangle: 2>, <Shape.square: 3>])]\n",
      "Accuracy: 1.00\n",
      "Precision: 1.00\n",
      "Recall: 1.00\n",
      "First Feature: Area\n",
      "CPU times: user 5.6 ms, sys: 362 µs, total: 5.96 ms\n",
      "Wall time: 5.93 ms\n"
     ]
    }
   ],
   "source": [
    "# Define the path to your data\n",
    "data_path = \"../440data/toy\"  # replace with your data path\n",
    "\n",
    "path = os.path.expanduser(data_path).split(os.sep)\n",
    "file_base = path[-1]  # -1 accesses the last entry of an iterable in Python\n",
    "\n",
    "# Load your data\n",
    "# This function might need to be replaced depending on how your data is formatted\n",
    "schema, X, y = parse_c45(file_base, data_path)\n",
    "\n",
    "print(schema)\n",
    "\n",
    "%time optimized_decision_tree = optimized_dtree.dtree(data_path, 5) \n",
    "\n",
    "#dtree('../440data/toy', 5)  # Obviously this will cause an error because you haven't implemented it yet!\n"
   ]
  },
  {
   "cell_type": "code",
   "execution_count": null,
   "metadata": {},
   "outputs": [],
   "source": []
  }
 ],
 "metadata": {
  "kernelspec": {
   "display_name": "MachineLearning",
   "language": "python",
   "name": "python3"
  },
  "language_info": {
   "codemirror_mode": {
    "name": "ipython",
    "version": 3
   },
   "file_extension": ".py",
   "mimetype": "text/x-python",
   "name": "python",
   "nbconvert_exporter": "python",
   "pygments_lexer": "ipython3",
   "version": "3.8.18"
  }
 },
 "nbformat": 4,
 "nbformat_minor": 2
}
