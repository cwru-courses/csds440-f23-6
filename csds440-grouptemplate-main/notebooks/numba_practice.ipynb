{
 "cells": [
  {
   "cell_type": "code",
   "execution_count": 36,
   "metadata": {},
   "outputs": [],
   "source": [
    "import random\n",
    "import warnings\n",
    "from typing import Tuple, Iterable\n",
    "from sting.data import FeatureType\n",
    "\n",
    "import numpy as np\n",
    "\n",
    "import sys\n",
    "import os\n",
    "\n",
    "# Get the current directory\n",
    "notebook_dir = os.getcwd()\n",
    "\n",
    "# The src directory is one level up from the notebook directory\n",
    "src_dir = os.path.join(notebook_dir, '..', 'src')\n",
    "\n",
    "# Add src to the system path\n",
    "sys.path.append(src_dir)\n",
    "\n",
    "# Now you can import the dtree module or any other modules in the src directory\n",
    "import dtree\n",
    "import optimized_dtree\n",
    "\n",
    "import util\n",
    "import optimized_util\n",
    "\n",
    "from sting.data import Feature, FeatureType\n",
    "from sting.data import parse_c45\n",
    "\n",
    "from matplotlib import pyplot as plt\n",
    "from sting.data import parse_c45\n"
   ]
  },
  {
   "cell_type": "code",
   "execution_count": 37,
   "metadata": {},
   "outputs": [
    {
     "name": "stdout",
     "output_type": "stream",
     "text": [
      "[Feature(name='Repealing-the-Job-Killing-Health-Care-Law-Act', ftype=FeatureType.NOMINAL, values=[<Repealing-the-Job-Killing-Health-Care-Law-Act.-: 1>, <Repealing-the-Job-Killing-Health-Care-Law-Act.0: 2>, <Repealing-the-Job-Killing-Health-Care-Law-Act.+: 3>]), Feature(name='Comprehensive-1099-Taxpayer-Protection-and-Repayment-of-Exchange-Subsidy-Overpayments-Act-of-2011', ftype=FeatureType.NOMINAL, values=[<Comprehensive-1099-Taxpayer-Protection-and-Repayment-of-Exchange-Subsidy-Overpayments-Act-of-2011.-: 1>, <Comprehensive-1099-Taxpayer-Protection-and-Repayment-of-Exchange-Subsidy-Overpayments-Act-of-2011.0: 2>, <Comprehensive-1099-Taxpayer-Protection-and-Repayment-of-Exchange-Subsidy-Overpayments-Act-of-2011.+: 3>]), Feature(name='Medicare-Decisions-Accountability-Act-of-2012', ftype=FeatureType.NOMINAL, values=[<Medicare-Decisions-Accountability-Act-of-2012.-: 1>, <Medicare-Decisions-Accountability-Act-of-2012.0: 2>, <Medicare-Decisions-Accountability-Act-of-2012.+: 3>]), Feature(name='Protect-Life-Act', ftype=FeatureType.NOMINAL, values=[<Protect-Life-Act.-: 1>, <Protect-Life-Act.0: 2>, <Protect-Life-Act.+: 3>]), Feature(name='National-Right-to-Carry-Reciprocity-Act-of-2011', ftype=FeatureType.NOMINAL, values=[<National-Right-to-Carry-Reciprocity-Act-of-2011.-: 1>, <National-Right-to-Carry-Reciprocity-Act-of-2011.0: 2>, <National-Right-to-Carry-Reciprocity-Act-of-2011.+: 3>]), Feature(name='Synthetic-Drug-Control-Act-of-2011', ftype=FeatureType.NOMINAL, values=[<Synthetic-Drug-Control-Act-of-2011.-: 1>, <Synthetic-Drug-Control-Act-of-2011.0: 2>, <Synthetic-Drug-Control-Act-of-2011.+: 3>]), Feature(name='Supply-Our-Soldiers-Act-of-2011', ftype=FeatureType.NOMINAL, values=[<Supply-Our-Soldiers-Act-of-2011.-: 1>, <Supply-Our-Soldiers-Act-of-2011.0: 2>, <Supply-Our-Soldiers-Act-of-2011.+: 3>]), Feature(name='Iran-Threat-Reduction-Act-of-2011', ftype=FeatureType.NOMINAL, values=[<Iran-Threat-Reduction-Act-of-2011.-: 1>, <Iran-Threat-Reduction-Act-of-2011.0: 2>, <Iran-Threat-Reduction-Act-of-2011.+: 3>]), Feature(name='Department-of-Defense-Appropriations-Act,-2012', ftype=FeatureType.NOMINAL, values=[<Department-of-Defense-Appropriations-Act,-2012.-: 1>, <Department-of-Defense-Appropriations-Act,-2012.0: 2>, <Department-of-Defense-Appropriations-Act,-2012.+: 3>]), Feature(name='Fairness-for-High-Skilled-Immigrants-Act-of-2011', ftype=FeatureType.NOMINAL, values=[<Fairness-for-High-Skilled-Immigrants-Act-of-2011.-: 1>, <Fairness-for-High-Skilled-Immigrants-Act-of-2011.0: 2>, <Fairness-for-High-Skilled-Immigrants-Act-of-2011.+: 3>]), Feature(name='Welfare-Integrity-and-Data-Improvement-Act', ftype=FeatureType.NOMINAL, values=[<Welfare-Integrity-and-Data-Improvement-Act.-: 1>, <Welfare-Integrity-and-Data-Improvement-Act.0: 2>, <Welfare-Integrity-and-Data-Improvement-Act.+: 3>])]\n",
      "Accuracy: 1.00\n",
      "Precision: 1.00\n",
      "Recall: 0.99\n",
      "First Feature: Repealing-the-Job-Killing-Health-Care-Law-Act\n",
      "CPU times: user 47.8 ms, sys: 10.9 ms, total: 58.7 ms\n",
      "Wall time: 81 ms\n"
     ]
    }
   ],
   "source": [
    "# Define the path to your data\n",
    "data_path = \"../440data/voting\"  # replace with your data path\n",
    "\n",
    "path = os.path.expanduser(data_path).split(os.sep)\n",
    "file_base = path[-1]  # -1 accesses the last entry of an iterable in Python\n",
    "\n",
    "# Load your data\n",
    "# This function might need to be replaced depending on how your data is formatted\n",
    "schema, X, y = parse_c45(file_base, data_path)\n",
    "\n",
    "print(schema)\n",
    "\n",
    "%time optimized_decision_tree = optimized_dtree.dtree(data_path, 5) \n",
    "\n",
    "#dtree('../440data/toy', 5)  # Obviously this will cause an error because you haven't implemented it yet!\n"
   ]
  },
  {
   "cell_type": "code",
   "execution_count": 33,
   "metadata": {},
   "outputs": [
    {
     "name": "stdout",
     "output_type": "stream",
     "text": [
      "[Feature(name='Repealing-the-Job-Killing-Health-Care-Law-Act', ftype=FeatureType.NOMINAL, values=[<Repealing-the-Job-Killing-Health-Care-Law-Act.-: 1>, <Repealing-the-Job-Killing-Health-Care-Law-Act.0: 2>, <Repealing-the-Job-Killing-Health-Care-Law-Act.+: 3>]), Feature(name='Comprehensive-1099-Taxpayer-Protection-and-Repayment-of-Exchange-Subsidy-Overpayments-Act-of-2011', ftype=FeatureType.NOMINAL, values=[<Comprehensive-1099-Taxpayer-Protection-and-Repayment-of-Exchange-Subsidy-Overpayments-Act-of-2011.-: 1>, <Comprehensive-1099-Taxpayer-Protection-and-Repayment-of-Exchange-Subsidy-Overpayments-Act-of-2011.0: 2>, <Comprehensive-1099-Taxpayer-Protection-and-Repayment-of-Exchange-Subsidy-Overpayments-Act-of-2011.+: 3>]), Feature(name='Medicare-Decisions-Accountability-Act-of-2012', ftype=FeatureType.NOMINAL, values=[<Medicare-Decisions-Accountability-Act-of-2012.-: 1>, <Medicare-Decisions-Accountability-Act-of-2012.0: 2>, <Medicare-Decisions-Accountability-Act-of-2012.+: 3>]), Feature(name='Protect-Life-Act', ftype=FeatureType.NOMINAL, values=[<Protect-Life-Act.-: 1>, <Protect-Life-Act.0: 2>, <Protect-Life-Act.+: 3>]), Feature(name='National-Right-to-Carry-Reciprocity-Act-of-2011', ftype=FeatureType.NOMINAL, values=[<National-Right-to-Carry-Reciprocity-Act-of-2011.-: 1>, <National-Right-to-Carry-Reciprocity-Act-of-2011.0: 2>, <National-Right-to-Carry-Reciprocity-Act-of-2011.+: 3>]), Feature(name='Synthetic-Drug-Control-Act-of-2011', ftype=FeatureType.NOMINAL, values=[<Synthetic-Drug-Control-Act-of-2011.-: 1>, <Synthetic-Drug-Control-Act-of-2011.0: 2>, <Synthetic-Drug-Control-Act-of-2011.+: 3>]), Feature(name='Supply-Our-Soldiers-Act-of-2011', ftype=FeatureType.NOMINAL, values=[<Supply-Our-Soldiers-Act-of-2011.-: 1>, <Supply-Our-Soldiers-Act-of-2011.0: 2>, <Supply-Our-Soldiers-Act-of-2011.+: 3>]), Feature(name='Iran-Threat-Reduction-Act-of-2011', ftype=FeatureType.NOMINAL, values=[<Iran-Threat-Reduction-Act-of-2011.-: 1>, <Iran-Threat-Reduction-Act-of-2011.0: 2>, <Iran-Threat-Reduction-Act-of-2011.+: 3>]), Feature(name='Department-of-Defense-Appropriations-Act,-2012', ftype=FeatureType.NOMINAL, values=[<Department-of-Defense-Appropriations-Act,-2012.-: 1>, <Department-of-Defense-Appropriations-Act,-2012.0: 2>, <Department-of-Defense-Appropriations-Act,-2012.+: 3>]), Feature(name='Fairness-for-High-Skilled-Immigrants-Act-of-2011', ftype=FeatureType.NOMINAL, values=[<Fairness-for-High-Skilled-Immigrants-Act-of-2011.-: 1>, <Fairness-for-High-Skilled-Immigrants-Act-of-2011.0: 2>, <Fairness-for-High-Skilled-Immigrants-Act-of-2011.+: 3>]), Feature(name='Welfare-Integrity-and-Data-Improvement-Act', ftype=FeatureType.NOMINAL, values=[<Welfare-Integrity-and-Data-Improvement-Act.-: 1>, <Welfare-Integrity-and-Data-Improvement-Act.0: 2>, <Welfare-Integrity-and-Data-Improvement-Act.+: 3>])]\n",
      "Accuracy: 1.00\n",
      "Precision: 1.00\n",
      "Recall: 0.99\n",
      "First Feature: Repealing-the-Job-Killing-Health-Care-Law-Act\n",
      "CPU times: user 77.1 ms, sys: 7.89 ms, total: 85 ms\n",
      "Wall time: 96.4 ms\n"
     ]
    }
   ],
   "source": [
    "\n"
   ]
  },
  {
   "cell_type": "code",
   "execution_count": 34,
   "metadata": {},
   "outputs": [
    {
     "name": "stdout",
     "output_type": "stream",
     "text": [
      "[Feature(name='image_id', ftype=FeatureType.NOMINAL, values=[<image_id.1: 1>, <image_id.2: 2>, <image_id.3: 3>, <image_id.4: 4>, <image_id.5: 5>, <image_id.6: 6>, <image_id.7: 7>, <image_id.8: 8>, <image_id.9: 9>, <image_id.10: 10>, <image_id.11: 11>, <image_id.12: 12>, <image_id.13: 13>, <image_id.14: 14>, <image_id.15: 15>, <image_id.16: 16>, <image_id.17: 17>, <image_id.18: 18>, <image_id.19: 19>, <image_id.20: 20>, <image_id.21: 21>, <image_id.22: 22>, <image_id.23: 23>, <image_id.24: 24>, <image_id.25: 25>, <image_id.26: 26>, <image_id.27: 27>, <image_id.28: 28>, <image_id.29: 29>, <image_id.30: 30>, <image_id.31: 31>, <image_id.32: 32>, <image_id.33: 33>, <image_id.34: 34>, <image_id.35: 35>, <image_id.36: 36>, <image_id.37: 37>, <image_id.38: 38>, <image_id.39: 39>, <image_id.40: 40>, <image_id.41: 41>, <image_id.42: 42>, <image_id.43: 43>, <image_id.44: 44>, <image_id.45: 45>, <image_id.46: 46>, <image_id.47: 47>, <image_id.48: 48>, <image_id.50: 49>, <image_id.51: 50>, <image_id.52: 51>, <image_id.53: 52>, <image_id.54: 53>, <image_id.55: 54>, <image_id.56: 55>]), Feature(name='chip_ 1_ 1', ftype=FeatureType.CONTINUOUS), Feature(name='chip_ 2_ 1', ftype=FeatureType.CONTINUOUS), Feature(name='chip_ 3_ 1', ftype=FeatureType.CONTINUOUS), Feature(name='chip_ 4_ 1', ftype=FeatureType.CONTINUOUS), Feature(name='chip_ 5_ 1', ftype=FeatureType.CONTINUOUS), Feature(name='chip_ 6_ 1', ftype=FeatureType.CONTINUOUS), Feature(name='chip_ 7_ 1', ftype=FeatureType.CONTINUOUS), Feature(name='chip_ 8_ 1', ftype=FeatureType.CONTINUOUS), Feature(name='chip_ 9_ 1', ftype=FeatureType.CONTINUOUS), Feature(name='chip_10_ 1', ftype=FeatureType.CONTINUOUS), Feature(name='chip_11_ 1', ftype=FeatureType.CONTINUOUS), Feature(name='chip_12_ 1', ftype=FeatureType.CONTINUOUS), Feature(name='chip_13_ 1', ftype=FeatureType.CONTINUOUS), Feature(name='chip_14_ 1', ftype=FeatureType.CONTINUOUS), Feature(name='chip_15_ 1', ftype=FeatureType.CONTINUOUS), Feature(name='chip_ 1_ 2', ftype=FeatureType.CONTINUOUS), Feature(name='chip_ 2_ 2', ftype=FeatureType.CONTINUOUS), Feature(name='chip_ 3_ 2', ftype=FeatureType.CONTINUOUS), Feature(name='chip_ 4_ 2', ftype=FeatureType.CONTINUOUS), Feature(name='chip_ 5_ 2', ftype=FeatureType.CONTINUOUS), Feature(name='chip_ 6_ 2', ftype=FeatureType.CONTINUOUS), Feature(name='chip_ 7_ 2', ftype=FeatureType.CONTINUOUS), Feature(name='chip_ 8_ 2', ftype=FeatureType.CONTINUOUS), Feature(name='chip_ 9_ 2', ftype=FeatureType.CONTINUOUS), Feature(name='chip_10_ 2', ftype=FeatureType.CONTINUOUS), Feature(name='chip_11_ 2', ftype=FeatureType.CONTINUOUS), Feature(name='chip_12_ 2', ftype=FeatureType.CONTINUOUS), Feature(name='chip_13_ 2', ftype=FeatureType.CONTINUOUS), Feature(name='chip_14_ 2', ftype=FeatureType.CONTINUOUS), Feature(name='chip_15_ 2', ftype=FeatureType.CONTINUOUS), Feature(name='chip_ 1_ 3', ftype=FeatureType.CONTINUOUS), Feature(name='chip_ 2_ 3', ftype=FeatureType.CONTINUOUS), Feature(name='chip_ 3_ 3', ftype=FeatureType.CONTINUOUS), Feature(name='chip_ 4_ 3', ftype=FeatureType.CONTINUOUS), Feature(name='chip_ 5_ 3', ftype=FeatureType.CONTINUOUS), Feature(name='chip_ 6_ 3', ftype=FeatureType.CONTINUOUS), Feature(name='chip_ 7_ 3', ftype=FeatureType.CONTINUOUS), Feature(name='chip_ 8_ 3', ftype=FeatureType.CONTINUOUS), Feature(name='chip_ 9_ 3', ftype=FeatureType.CONTINUOUS), Feature(name='chip_10_ 3', ftype=FeatureType.CONTINUOUS), Feature(name='chip_11_ 3', ftype=FeatureType.CONTINUOUS), Feature(name='chip_12_ 3', ftype=FeatureType.CONTINUOUS), Feature(name='chip_13_ 3', ftype=FeatureType.CONTINUOUS), Feature(name='chip_14_ 3', ftype=FeatureType.CONTINUOUS), Feature(name='chip_15_ 3', ftype=FeatureType.CONTINUOUS), Feature(name='chip_ 1_ 4', ftype=FeatureType.CONTINUOUS), Feature(name='chip_ 2_ 4', ftype=FeatureType.CONTINUOUS), Feature(name='chip_ 3_ 4', ftype=FeatureType.CONTINUOUS), Feature(name='chip_ 4_ 4', ftype=FeatureType.CONTINUOUS), Feature(name='chip_ 5_ 4', ftype=FeatureType.CONTINUOUS), Feature(name='chip_ 6_ 4', ftype=FeatureType.CONTINUOUS), Feature(name='chip_ 7_ 4', ftype=FeatureType.CONTINUOUS), Feature(name='chip_ 8_ 4', ftype=FeatureType.CONTINUOUS), Feature(name='chip_ 9_ 4', ftype=FeatureType.CONTINUOUS), Feature(name='chip_10_ 4', ftype=FeatureType.CONTINUOUS), Feature(name='chip_11_ 4', ftype=FeatureType.CONTINUOUS), Feature(name='chip_12_ 4', ftype=FeatureType.CONTINUOUS), Feature(name='chip_13_ 4', ftype=FeatureType.CONTINUOUS), Feature(name='chip_14_ 4', ftype=FeatureType.CONTINUOUS), Feature(name='chip_15_ 4', ftype=FeatureType.CONTINUOUS), Feature(name='chip_ 1_ 5', ftype=FeatureType.CONTINUOUS), Feature(name='chip_ 2_ 5', ftype=FeatureType.CONTINUOUS), Feature(name='chip_ 3_ 5', ftype=FeatureType.CONTINUOUS), Feature(name='chip_ 4_ 5', ftype=FeatureType.CONTINUOUS), Feature(name='chip_ 5_ 5', ftype=FeatureType.CONTINUOUS), Feature(name='chip_ 6_ 5', ftype=FeatureType.CONTINUOUS), Feature(name='chip_ 7_ 5', ftype=FeatureType.CONTINUOUS), Feature(name='chip_ 8_ 5', ftype=FeatureType.CONTINUOUS), Feature(name='chip_ 9_ 5', ftype=FeatureType.CONTINUOUS), Feature(name='chip_10_ 5', ftype=FeatureType.CONTINUOUS), Feature(name='chip_11_ 5', ftype=FeatureType.CONTINUOUS), Feature(name='chip_12_ 5', ftype=FeatureType.CONTINUOUS), Feature(name='chip_13_ 5', ftype=FeatureType.CONTINUOUS), Feature(name='chip_14_ 5', ftype=FeatureType.CONTINUOUS), Feature(name='chip_15_ 5', ftype=FeatureType.CONTINUOUS), Feature(name='chip_ 1_ 6', ftype=FeatureType.CONTINUOUS), Feature(name='chip_ 2_ 6', ftype=FeatureType.CONTINUOUS), Feature(name='chip_ 3_ 6', ftype=FeatureType.CONTINUOUS), Feature(name='chip_ 4_ 6', ftype=FeatureType.CONTINUOUS), Feature(name='chip_ 5_ 6', ftype=FeatureType.CONTINUOUS), Feature(name='chip_ 6_ 6', ftype=FeatureType.CONTINUOUS), Feature(name='chip_ 7_ 6', ftype=FeatureType.CONTINUOUS), Feature(name='chip_ 8_ 6', ftype=FeatureType.CONTINUOUS), Feature(name='chip_ 9_ 6', ftype=FeatureType.CONTINUOUS), Feature(name='chip_10_ 6', ftype=FeatureType.CONTINUOUS), Feature(name='chip_11_ 6', ftype=FeatureType.CONTINUOUS), Feature(name='chip_12_ 6', ftype=FeatureType.CONTINUOUS), Feature(name='chip_13_ 6', ftype=FeatureType.CONTINUOUS), Feature(name='chip_14_ 6', ftype=FeatureType.CONTINUOUS), Feature(name='chip_15_ 6', ftype=FeatureType.CONTINUOUS), Feature(name='chip_ 1_ 7', ftype=FeatureType.CONTINUOUS), Feature(name='chip_ 2_ 7', ftype=FeatureType.CONTINUOUS), Feature(name='chip_ 3_ 7', ftype=FeatureType.CONTINUOUS), Feature(name='chip_ 4_ 7', ftype=FeatureType.CONTINUOUS), Feature(name='chip_ 5_ 7', ftype=FeatureType.CONTINUOUS), Feature(name='chip_ 6_ 7', ftype=FeatureType.CONTINUOUS), Feature(name='chip_ 7_ 7', ftype=FeatureType.CONTINUOUS), Feature(name='chip_ 8_ 7', ftype=FeatureType.CONTINUOUS), Feature(name='chip_ 9_ 7', ftype=FeatureType.CONTINUOUS), Feature(name='chip_10_ 7', ftype=FeatureType.CONTINUOUS), Feature(name='chip_11_ 7', ftype=FeatureType.CONTINUOUS), Feature(name='chip_12_ 7', ftype=FeatureType.CONTINUOUS), Feature(name='chip_13_ 7', ftype=FeatureType.CONTINUOUS), Feature(name='chip_14_ 7', ftype=FeatureType.CONTINUOUS), Feature(name='chip_15_ 7', ftype=FeatureType.CONTINUOUS), Feature(name='chip_ 1_ 8', ftype=FeatureType.CONTINUOUS), Feature(name='chip_ 2_ 8', ftype=FeatureType.CONTINUOUS), Feature(name='chip_ 3_ 8', ftype=FeatureType.CONTINUOUS), Feature(name='chip_ 4_ 8', ftype=FeatureType.CONTINUOUS), Feature(name='chip_ 5_ 8', ftype=FeatureType.CONTINUOUS), Feature(name='chip_ 6_ 8', ftype=FeatureType.CONTINUOUS), Feature(name='chip_ 7_ 8', ftype=FeatureType.CONTINUOUS), Feature(name='chip_ 8_ 8', ftype=FeatureType.CONTINUOUS), Feature(name='chip_ 9_ 8', ftype=FeatureType.CONTINUOUS), Feature(name='chip_10_ 8', ftype=FeatureType.CONTINUOUS), Feature(name='chip_11_ 8', ftype=FeatureType.CONTINUOUS), Feature(name='chip_12_ 8', ftype=FeatureType.CONTINUOUS), Feature(name='chip_13_ 8', ftype=FeatureType.CONTINUOUS), Feature(name='chip_14_ 8', ftype=FeatureType.CONTINUOUS), Feature(name='chip_15_ 8', ftype=FeatureType.CONTINUOUS), Feature(name='chip_ 1_ 9', ftype=FeatureType.CONTINUOUS), Feature(name='chip_ 2_ 9', ftype=FeatureType.CONTINUOUS), Feature(name='chip_ 3_ 9', ftype=FeatureType.CONTINUOUS), Feature(name='chip_ 4_ 9', ftype=FeatureType.CONTINUOUS), Feature(name='chip_ 5_ 9', ftype=FeatureType.CONTINUOUS), Feature(name='chip_ 6_ 9', ftype=FeatureType.CONTINUOUS), Feature(name='chip_ 7_ 9', ftype=FeatureType.CONTINUOUS), Feature(name='chip_ 8_ 9', ftype=FeatureType.CONTINUOUS), Feature(name='chip_ 9_ 9', ftype=FeatureType.CONTINUOUS), Feature(name='chip_10_ 9', ftype=FeatureType.CONTINUOUS), Feature(name='chip_11_ 9', ftype=FeatureType.CONTINUOUS), Feature(name='chip_12_ 9', ftype=FeatureType.CONTINUOUS), Feature(name='chip_13_ 9', ftype=FeatureType.CONTINUOUS), Feature(name='chip_14_ 9', ftype=FeatureType.CONTINUOUS), Feature(name='chip_15_ 9', ftype=FeatureType.CONTINUOUS), Feature(name='chip_ 1_10', ftype=FeatureType.CONTINUOUS), Feature(name='chip_ 2_10', ftype=FeatureType.CONTINUOUS), Feature(name='chip_ 3_10', ftype=FeatureType.CONTINUOUS), Feature(name='chip_ 4_10', ftype=FeatureType.CONTINUOUS), Feature(name='chip_ 5_10', ftype=FeatureType.CONTINUOUS), Feature(name='chip_ 6_10', ftype=FeatureType.CONTINUOUS), Feature(name='chip_ 7_10', ftype=FeatureType.CONTINUOUS), Feature(name='chip_ 8_10', ftype=FeatureType.CONTINUOUS), Feature(name='chip_ 9_10', ftype=FeatureType.CONTINUOUS), Feature(name='chip_10_10', ftype=FeatureType.CONTINUOUS), Feature(name='chip_11_10', ftype=FeatureType.CONTINUOUS), Feature(name='chip_12_10', ftype=FeatureType.CONTINUOUS), Feature(name='chip_13_10', ftype=FeatureType.CONTINUOUS), Feature(name='chip_14_10', ftype=FeatureType.CONTINUOUS), Feature(name='chip_15_10', ftype=FeatureType.CONTINUOUS), Feature(name='chip_ 1_11', ftype=FeatureType.CONTINUOUS), Feature(name='chip_ 2_11', ftype=FeatureType.CONTINUOUS), Feature(name='chip_ 3_11', ftype=FeatureType.CONTINUOUS), Feature(name='chip_ 4_11', ftype=FeatureType.CONTINUOUS), Feature(name='chip_ 5_11', ftype=FeatureType.CONTINUOUS), Feature(name='chip_ 6_11', ftype=FeatureType.CONTINUOUS), Feature(name='chip_ 7_11', ftype=FeatureType.CONTINUOUS), Feature(name='chip_ 8_11', ftype=FeatureType.CONTINUOUS), Feature(name='chip_ 9_11', ftype=FeatureType.CONTINUOUS), Feature(name='chip_10_11', ftype=FeatureType.CONTINUOUS), Feature(name='chip_11_11', ftype=FeatureType.CONTINUOUS), Feature(name='chip_12_11', ftype=FeatureType.CONTINUOUS), Feature(name='chip_13_11', ftype=FeatureType.CONTINUOUS), Feature(name='chip_14_11', ftype=FeatureType.CONTINUOUS), Feature(name='chip_15_11', ftype=FeatureType.CONTINUOUS), Feature(name='chip_ 1_12', ftype=FeatureType.CONTINUOUS), Feature(name='chip_ 2_12', ftype=FeatureType.CONTINUOUS), Feature(name='chip_ 3_12', ftype=FeatureType.CONTINUOUS), Feature(name='chip_ 4_12', ftype=FeatureType.CONTINUOUS), Feature(name='chip_ 5_12', ftype=FeatureType.CONTINUOUS), Feature(name='chip_ 6_12', ftype=FeatureType.CONTINUOUS), Feature(name='chip_ 7_12', ftype=FeatureType.CONTINUOUS), Feature(name='chip_ 8_12', ftype=FeatureType.CONTINUOUS), Feature(name='chip_ 9_12', ftype=FeatureType.CONTINUOUS), Feature(name='chip_10_12', ftype=FeatureType.CONTINUOUS), Feature(name='chip_11_12', ftype=FeatureType.CONTINUOUS), Feature(name='chip_12_12', ftype=FeatureType.CONTINUOUS), Feature(name='chip_13_12', ftype=FeatureType.CONTINUOUS), Feature(name='chip_14_12', ftype=FeatureType.CONTINUOUS), Feature(name='chip_15_12', ftype=FeatureType.CONTINUOUS), Feature(name='chip_ 1_13', ftype=FeatureType.CONTINUOUS), Feature(name='chip_ 2_13', ftype=FeatureType.CONTINUOUS), Feature(name='chip_ 3_13', ftype=FeatureType.CONTINUOUS), Feature(name='chip_ 4_13', ftype=FeatureType.CONTINUOUS), Feature(name='chip_ 5_13', ftype=FeatureType.CONTINUOUS), Feature(name='chip_ 6_13', ftype=FeatureType.CONTINUOUS), Feature(name='chip_ 7_13', ftype=FeatureType.CONTINUOUS), Feature(name='chip_ 8_13', ftype=FeatureType.CONTINUOUS), Feature(name='chip_ 9_13', ftype=FeatureType.CONTINUOUS), Feature(name='chip_10_13', ftype=FeatureType.CONTINUOUS), Feature(name='chip_11_13', ftype=FeatureType.CONTINUOUS), Feature(name='chip_12_13', ftype=FeatureType.CONTINUOUS), Feature(name='chip_13_13', ftype=FeatureType.CONTINUOUS), Feature(name='chip_14_13', ftype=FeatureType.CONTINUOUS), Feature(name='chip_15_13', ftype=FeatureType.CONTINUOUS), Feature(name='chip_ 1_14', ftype=FeatureType.CONTINUOUS), Feature(name='chip_ 2_14', ftype=FeatureType.CONTINUOUS), Feature(name='chip_ 3_14', ftype=FeatureType.CONTINUOUS), Feature(name='chip_ 4_14', ftype=FeatureType.CONTINUOUS), Feature(name='chip_ 5_14', ftype=FeatureType.CONTINUOUS), Feature(name='chip_ 6_14', ftype=FeatureType.CONTINUOUS), Feature(name='chip_ 7_14', ftype=FeatureType.CONTINUOUS), Feature(name='chip_ 8_14', ftype=FeatureType.CONTINUOUS), Feature(name='chip_ 9_14', ftype=FeatureType.CONTINUOUS), Feature(name='chip_10_14', ftype=FeatureType.CONTINUOUS), Feature(name='chip_11_14', ftype=FeatureType.CONTINUOUS), Feature(name='chip_12_14', ftype=FeatureType.CONTINUOUS), Feature(name='chip_13_14', ftype=FeatureType.CONTINUOUS), Feature(name='chip_14_14', ftype=FeatureType.CONTINUOUS), Feature(name='chip_15_14', ftype=FeatureType.CONTINUOUS), Feature(name='chip_ 1_15', ftype=FeatureType.CONTINUOUS), Feature(name='chip_ 2_15', ftype=FeatureType.CONTINUOUS), Feature(name='chip_ 3_15', ftype=FeatureType.CONTINUOUS), Feature(name='chip_ 4_15', ftype=FeatureType.CONTINUOUS), Feature(name='chip_ 5_15', ftype=FeatureType.CONTINUOUS), Feature(name='chip_ 6_15', ftype=FeatureType.CONTINUOUS), Feature(name='chip_ 7_15', ftype=FeatureType.CONTINUOUS), Feature(name='chip_ 8_15', ftype=FeatureType.CONTINUOUS), Feature(name='chip_ 9_15', ftype=FeatureType.CONTINUOUS), Feature(name='chip_10_15', ftype=FeatureType.CONTINUOUS), Feature(name='chip_11_15', ftype=FeatureType.CONTINUOUS), Feature(name='chip_12_15', ftype=FeatureType.CONTINUOUS), Feature(name='chip_13_15', ftype=FeatureType.CONTINUOUS), Feature(name='chip_14_15', ftype=FeatureType.CONTINUOUS), Feature(name='chip_15_15', ftype=FeatureType.CONTINUOUS)]\n",
      "Accuracy: 0.73\n",
      "Precision: 0.63\n",
      "Recall: 0.45\n",
      "First Feature: image_id\n",
      "CPU times: user 14.7 s, sys: 99.3 ms, total: 14.8 s\n",
      "Wall time: 14.9 s\n"
     ]
    }
   ],
   "source": [
    "# Define the path to your data\n",
    "data_path = \"../440data/volcanoes\"  # replace with your data path\n",
    "\n",
    "path = os.path.expanduser(data_path).split(os.sep)\n",
    "file_base = path[-1]  # -1 accesses the last entry of an iterable in Python\n",
    "\n",
    "# Load your data\n",
    "# This function might need to be replaced depending on how your data is formatted\n",
    "schema, X, y = parse_c45(file_base, data_path)\n",
    "\n",
    "%time volcanoes_decision_tree = optimized_dtree.dtree(data_path, 5) \n",
    "\n",
    "#dtree('../440data/toy', 5)  # Obviously this will cause an error because you haven't implemented it yet!\n"
   ]
  },
  {
   "cell_type": "code",
   "execution_count": 35,
   "metadata": {},
   "outputs": [
    {
     "name": "stdout",
     "output_type": "stream",
     "text": [
      "Unexpected exception formatting exception. Falling back to standard exception\n"
     ]
    },
    {
     "name": "stderr",
     "output_type": "stream",
     "text": [
      "Traceback (most recent call last):\n",
      "  File \"/Users/pranavdhinakar/opt/anaconda3/envs/MachineLearning/lib/python3.8/site-packages/IPython/core/magics/execution.py\", line 1316, in time\n",
      "    exec(code, glob, local_ns)\n",
      "  File \"<timed exec>\", line 1, in <module>\n",
      "  File \"/Users/pranavdhinakar/Documents/School Work/Fall 2023 Classes/CSDS 440 Machine Learning/csds440-f23-6/csds440-grouptemplate-main/notebooks/../src/optimized_dtree.py\", line 452, in dtree\n",
      "    return\n",
      "  File \"/Users/pranavdhinakar/Documents/School Work/Fall 2023 Classes/CSDS 440 Machine Learning/csds440-f23-6/csds440-grouptemplate-main/notebooks/../src/optimized_dtree.py\", line 235, in fit\n",
      "  File \"/Users/pranavdhinakar/Documents/School Work/Fall 2023 Classes/CSDS 440 Machine Learning/csds440-f23-6/csds440-grouptemplate-main/notebooks/../src/optimized_dtree.py\", line 207, in fit\n",
      "  File \"/Users/pranavdhinakar/Documents/School Work/Fall 2023 Classes/CSDS 440 Machine Learning/csds440-f23-6/csds440-grouptemplate-main/notebooks/../src/optimized_dtree.py\", line 207, in fit\n",
      "  File \"/Users/pranavdhinakar/Documents/School Work/Fall 2023 Classes/CSDS 440 Machine Learning/csds440-f23-6/csds440-grouptemplate-main/notebooks/../src/optimized_dtree.py\", line 207, in fit\n",
      "  [Previous line repeated 345 more times]\n",
      "  File \"/Users/pranavdhinakar/Documents/School Work/Fall 2023 Classes/CSDS 440 Machine Learning/csds440-f23-6/csds440-grouptemplate-main/notebooks/../src/optimized_dtree.py\", line 106, in fit\n",
      "  File \"/Users/pranavdhinakar/Documents/School Work/Fall 2023 Classes/CSDS 440 Machine Learning/csds440-f23-6/csds440-grouptemplate-main/notebooks/../src/optimized_dtree.py\", line 330, in _determine_split_criterion\n",
      "    # If this is a leaf node (i.e., it has no children), then we've reached the bottom of this path.\n",
      "  File \"<__array_function__ internals>\", line 180, in argsort\n",
      "  File \"/Users/pranavdhinakar/opt/anaconda3/envs/MachineLearning/lib/python3.8/site-packages/numpy/core/fromnumeric.py\", line 1120, in argsort\n",
      "    return _wrapfunc(a, 'argsort', axis=axis, kind=kind, order=order)\n",
      "  File \"/Users/pranavdhinakar/opt/anaconda3/envs/MachineLearning/lib/python3.8/site-packages/numpy/core/fromnumeric.py\", line 57, in _wrapfunc\n",
      "    return bound(*args, **kwds)\n",
      "KeyboardInterrupt\n",
      "\n",
      "During handling of the above exception, another exception occurred:\n",
      "\n",
      "Traceback (most recent call last):\n",
      "  File \"/Users/pranavdhinakar/opt/anaconda3/envs/MachineLearning/lib/python3.8/site-packages/IPython/core/interactiveshell.py\", line 1997, in showtraceback\n",
      "    stb = self.InteractiveTB.structured_traceback(\n",
      "  File \"/Users/pranavdhinakar/opt/anaconda3/envs/MachineLearning/lib/python3.8/site-packages/IPython/core/ultratb.py\", line 1112, in structured_traceback\n",
      "    return FormattedTB.structured_traceback(\n",
      "  File \"/Users/pranavdhinakar/opt/anaconda3/envs/MachineLearning/lib/python3.8/site-packages/IPython/core/ultratb.py\", line 1006, in structured_traceback\n",
      "    return VerboseTB.structured_traceback(\n",
      "  File \"/Users/pranavdhinakar/opt/anaconda3/envs/MachineLearning/lib/python3.8/site-packages/IPython/core/ultratb.py\", line 859, in structured_traceback\n",
      "    formatted_exception = self.format_exception_as_a_whole(etype, evalue, etb, number_of_lines_of_context,\n",
      "  File \"/Users/pranavdhinakar/opt/anaconda3/envs/MachineLearning/lib/python3.8/site-packages/IPython/core/ultratb.py\", line 812, in format_exception_as_a_whole\n",
      "    frames.append(self.format_record(r))\n",
      "  File \"/Users/pranavdhinakar/opt/anaconda3/envs/MachineLearning/lib/python3.8/site-packages/IPython/core/ultratb.py\", line 730, in format_record\n",
      "    result += ''.join(_format_traceback_lines(frame_info.lines, Colors, self.has_colors, lvals))\n",
      "  File \"/Users/pranavdhinakar/opt/anaconda3/envs/MachineLearning/lib/python3.8/site-packages/stack_data/utils.py\", line 145, in cached_property_wrapper\n",
      "    value = obj.__dict__[self.func.__name__] = self.func(obj)\n",
      "  File \"/Users/pranavdhinakar/opt/anaconda3/envs/MachineLearning/lib/python3.8/site-packages/stack_data/core.py\", line 734, in lines\n",
      "    pieces = self.included_pieces\n",
      "  File \"/Users/pranavdhinakar/opt/anaconda3/envs/MachineLearning/lib/python3.8/site-packages/stack_data/utils.py\", line 145, in cached_property_wrapper\n",
      "    value = obj.__dict__[self.func.__name__] = self.func(obj)\n",
      "  File \"/Users/pranavdhinakar/opt/anaconda3/envs/MachineLearning/lib/python3.8/site-packages/stack_data/core.py\", line 681, in included_pieces\n",
      "    pos = scope_pieces.index(self.executing_piece)\n",
      "  File \"/Users/pranavdhinakar/opt/anaconda3/envs/MachineLearning/lib/python3.8/site-packages/stack_data/utils.py\", line 145, in cached_property_wrapper\n",
      "    value = obj.__dict__[self.func.__name__] = self.func(obj)\n",
      "  File \"/Users/pranavdhinakar/opt/anaconda3/envs/MachineLearning/lib/python3.8/site-packages/stack_data/core.py\", line 660, in executing_piece\n",
      "    return only(\n",
      "  File \"/Users/pranavdhinakar/opt/anaconda3/envs/MachineLearning/lib/python3.8/site-packages/executing/executing.py\", line 164, in only\n",
      "    raise NotOneValueFound('Expected one value, found 0')\n",
      "executing.executing.NotOneValueFound: Expected one value, found 0\n"
     ]
    }
   ],
   "source": [
    "# Define the path to your data\n",
    "data_path = \"../440data/spam\"  # replace with your data path\n",
    "\n",
    "path = os.path.expanduser(data_path).split(os.sep)\n",
    "file_base = path[-1]  # -1 accesses the last entry of an iterable in Python\n",
    "\n",
    "# Load your data\n",
    "# This function might need to be replaced depending on how your data is formatted\n",
    "schema, X, y = parse_c45(file_base, data_path)\n",
    "\n",
    "%time spam_decision_tree = optimized_dtree.dtree(data_path, 5) \n",
    "\n",
    "#dtree('../440data/toy', 5)  # Obviously this will cause an error because you haven't implemented it yet!\n"
   ]
  },
  {
   "cell_type": "code",
   "execution_count": null,
   "metadata": {},
   "outputs": [],
   "source": []
  }
 ],
 "metadata": {
  "kernelspec": {
   "display_name": "MachineLearning",
   "language": "python",
   "name": "python3"
  },
  "language_info": {
   "codemirror_mode": {
    "name": "ipython",
    "version": 3
   },
   "file_extension": ".py",
   "mimetype": "text/x-python",
   "name": "python",
   "nbconvert_exporter": "python",
   "pygments_lexer": "ipython3",
   "version": "3.8.18"
  }
 },
 "nbformat": 4,
 "nbformat_minor": 2
}
