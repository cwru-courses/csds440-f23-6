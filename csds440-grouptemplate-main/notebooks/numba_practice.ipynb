{
 "cells": [
  {
   "cell_type": "code",
   "execution_count": 3,
   "metadata": {},
   "outputs": [],
   "source": [
    "from numba import jit, njit, vectorize\n",
    "import random\n",
    "import warnings\n",
    "from typing import Tuple, Iterable\n",
    "from sting.data import FeatureType\n",
    "\n",
    "import numpy as np\n",
    "\n",
    "import sys\n",
    "import os\n"
   ]
  },
  {
   "cell_type": "code",
   "execution_count": 16,
   "metadata": {},
   "outputs": [
    {
     "name": "stdout",
     "output_type": "stream",
     "text": [
      "[1 1 0 0 0 1 0 0 0]\n"
     ]
    }
   ],
   "source": [
    "# Get the current directory\n",
    "notebook_dir = os.getcwd()\n",
    "\n",
    "# The src directory is one level up from the notebook directory\n",
    "src_dir = os.path.join(notebook_dir, '..', 'src')\n",
    "\n",
    "# Add src to the system path\n",
    "sys.path.append(src_dir)\n",
    "\n",
    "# Now you can import the dtree module or any other modules in the src directory\n",
    "import dtree\n",
    "from sting.data import Feature, FeatureType\n",
    "from sting.data import parse_c45  # or use another appropriate method to load your data\n",
    "#from your_module_path import DecisionTree  # replace 'your_module_path' with the actual module path\n",
    "\n",
    "\n",
    "# Define the path to your data\n",
    "data_path = \"../440data/toy\"  # replace with your data path\n",
    "\n",
    "path = os.path.expanduser(data_path).split(os.sep)\n",
    "file_base = path[-1]  # -1 accesses the last entry of an iterable in Python\n",
    "\n",
    "# Load your data\n",
    "# This function might need to be replaced depending on how your data is formatted\n",
    "Schema, X, y = parse_c45(file_base, data_path)\n",
    "\n",
    "print(y)\n",
    "\n",
    "#dtree('../440data/toy', 5)  # Obviously this will cause an error because you haven't implemented it yet!\n"
   ]
  },
  {
   "cell_type": "code",
   "execution_count": null,
   "metadata": {},
   "outputs": [],
   "source": [
    "def calculate_entropy(labels):\n",
    "    unique_values, counts = np.unique(labels, return_counts=True)\n",
    "    probabilities = counts / len(labels)\n",
    "    entropy_value = -np.sum(probabilities * np.log2(probabilities))\n",
    "    return entropy_value"
   ]
  }
 ],
 "metadata": {
  "kernelspec": {
   "display_name": "MachineLearning",
   "language": "python",
   "name": "python3"
  },
  "language_info": {
   "codemirror_mode": {
    "name": "ipython",
    "version": 3
   },
   "file_extension": ".py",
   "mimetype": "text/x-python",
   "name": "python",
   "nbconvert_exporter": "python",
   "pygments_lexer": "ipython3",
   "version": "3.8.18"
  }
 },
 "nbformat": 4,
 "nbformat_minor": 2
}
