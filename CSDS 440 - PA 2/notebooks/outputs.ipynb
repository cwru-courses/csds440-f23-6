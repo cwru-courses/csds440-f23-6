{
 "cells": [
  {
   "cell_type": "code",
   "execution_count": 8,
   "metadata": {},
   "outputs": [],
   "source": [
    "%matplotlib inline\n",
    "from PIL import Image"
   ]
  },
  {
   "cell_type": "markdown",
   "metadata": {},
   "source": [
    "# Part A"
   ]
  },
  {
   "cell_type": "markdown",
   "metadata": {},
   "source": [
    "Naive Bayes on Spam Dataset with n_bins = 10 and maximum likelihood estimation = 0.01"
   ]
  },
  {
   "cell_type": "code",
   "execution_count": 3,
   "metadata": {},
   "outputs": [
    {
     "name": "stdout",
     "output_type": "stream",
     "text": [
      "^C\n",
      "Traceback (most recent call last):\n",
      "  File \"/home/niyar/projects/dalal/naive-bayes/a2/notebooks/../src/nbayes.py\", line 128, in <module>\n",
      "    main()\n",
      "  File \"/home/niyar/projects/dalal/naive-bayes/a2/notebooks/../src/nbayes.py\", line 100, in main\n",
      "    model.train(trainX, trainy, posi_num, nega_num)\n",
      "  File \"/home/niyar/projects/dalal/naive-bayes/a2/notebooks/../src/nbayes.py\", line 50, in train\n",
      "    d[attr] = (posi_num[i][attr] + m * p) / (sum(y == 1) + m)\n",
      "KeyboardInterrupt\n"
     ]
    }
   ],
   "source": [
    "!python3 ../src/nbayes.py ../440data/spam 1 10 0.01 "
   ]
  },
  {
   "cell_type": "markdown",
   "metadata": {},
   "source": [
    "Naive Bayes on Volcanoes Dataset with n_bins = 10 and maximum likelihood estimation = 0.01"
   ]
  },
  {
   "cell_type": "code",
   "execution_count": 5,
   "metadata": {},
   "outputs": [
    {
     "name": "stdout",
     "output_type": "stream",
     "text": [
      "===============Fold report==================\n",
      "Accuracy:0.620\n",
      "Precision:0.481\n",
      "Recall:0.868\n",
      "===============Fold report==================\n",
      "Accuracy:0.632\n",
      "Precision:0.447\n",
      "Recall:0.825\n",
      "===============Fold report==================\n",
      "Accuracy:0.635\n",
      "Precision:0.461\n",
      "Recall:0.818\n",
      "===============Fold report==================\n",
      "Accuracy:0.641\n",
      "Precision:0.479\n",
      "Recall:0.826\n",
      "===============Fold report==================\n",
      "Accuracy:0.635\n",
      "Precision:0.461\n",
      "Recall:0.818\n",
      "===============Final report=================\n",
      "Accuracy:0.632 0.007\n",
      "Precision:0.465 0.013\n",
      "Recall:0.831 0.019\n",
      "Area under ROC 0.500\n"
     ]
    }
   ],
   "source": [
    "!python3 ../src/nbayes.py ../440data/volcanoes 1 10 0.01 "
   ]
  },
  {
   "cell_type": "markdown",
   "metadata": {},
   "source": [
    "Naive Bayes on Voting Dataset with n_bins = 10 and maximum likelihood estimation = 0.01"
   ]
  },
  {
   "cell_type": "code",
   "execution_count": 4,
   "metadata": {},
   "outputs": [
    {
     "name": "stdout",
     "output_type": "stream",
     "text": [
      "===============Fold report==================\n",
      "Accuracy:0.989\n",
      "Precision:0.976\n",
      "Recall:1.000\n",
      "===============Fold report==================\n",
      "Accuracy:0.989\n",
      "Precision:0.974\n",
      "Recall:1.000\n",
      "===============Fold report==================\n",
      "Accuracy:0.966\n",
      "Precision:0.975\n",
      "Recall:0.951\n",
      "===============Fold report==================\n",
      "Accuracy:0.989\n",
      "Precision:1.000\n",
      "Recall:0.976\n",
      "===============Fold report==================\n",
      "Accuracy:0.989\n",
      "Precision:1.000\n",
      "Recall:0.973\n",
      "===============Final report=================\n",
      "Accuracy:0.984 0.009\n",
      "Precision:0.985 0.012\n",
      "Recall:0.980 0.018\n",
      "Area under ROC 0.913\n"
     ]
    }
   ],
   "source": [
    "!python3 ../src/nbayes.py ../440data/voting 1 10 0.01 "
   ]
  },
  {
   "cell_type": "markdown",
   "metadata": {},
   "source": [
    "Logistic Regression on Spam Dataset with 5-Fold cross validation and lambda = 0.01"
   ]
  },
  {
   "cell_type": "code",
   "execution_count": 9,
   "metadata": {},
   "outputs": [
    {
     "name": "stdout",
     "output_type": "stream",
     "text": [
      "/home/niyar/projects/dalal/naive-bayes/a2/notebooks/../src/logreg.py:15: RuntimeWarning: overflow encountered in exp\n",
      "  return 1 / (1 + np.exp(-z))\n",
      "===============Fold report==================\n",
      "Accuracy:0.624\n",
      "Precision:0.630\n",
      "Recall:0.960\n",
      "===============Fold report==================\n",
      "Accuracy:0.628\n",
      "Precision:0.630\n",
      "Recall:0.979\n",
      "===============Fold report==================\n",
      "Accuracy:0.628\n",
      "Precision:0.636\n",
      "Recall:0.965\n",
      "===============Fold report==================\n",
      "Accuracy:0.617\n",
      "Precision:0.625\n",
      "Recall:0.950\n",
      "===============Fold report==================\n",
      "Accuracy:0.633\n",
      "Precision:0.639\n",
      "Recall:0.958\n",
      "===============Final report=================\n",
      "Accuracy:0.626 0.005\n",
      "Precision:0.632 0.005\n",
      "Recall:0.962 0.010\n",
      "Area under ROC 0.001\n"
     ]
    }
   ],
   "source": [
    "!python3 ../src/logreg.py ../440data/spam 1 0.01 0"
   ]
  },
  {
   "cell_type": "markdown",
   "metadata": {},
   "source": [
    "Logistic Regression on Volcanoes Dataset with 5-Fold cross validation and lambda = 0.01"
   ]
  },
  {
   "cell_type": "code",
   "execution_count": 7,
   "metadata": {},
   "outputs": [
    {
     "name": "stdout",
     "output_type": "stream",
     "text": [
      "===============Fold report==================\n",
      "Accuracy:0.662\n",
      "Precision:0.510\n",
      "Recall:0.833\n",
      "===============Fold report==================\n",
      "Accuracy:0.706\n",
      "Precision:1.000\n",
      "Recall:0.044\n",
      "===============Fold report==================\n",
      "Accuracy:0.704\n",
      "Precision:0.538\n",
      "Recall:0.812\n",
      "===============Fold report==================\n",
      "Accuracy:0.563\n",
      "Precision:0.419\n",
      "Recall:0.863\n",
      "===============Fold report==================\n",
      "Accuracy:0.798\n",
      "Precision:0.757\n",
      "Recall:0.545\n",
      "===============Final report=================\n",
      "Accuracy:0.687 0.076\n",
      "Precision:0.645 0.210\n",
      "Recall:0.620 0.310\n",
      "Area under ROC 0.435\n"
     ]
    }
   ],
   "source": [
    "!python3 ../src/logreg.py ../440data/volcanoes 1 0.01 0"
   ]
  },
  {
   "cell_type": "markdown",
   "metadata": {},
   "source": [
    "Logistic Regression on Voting Dataset with 5-Fold cross validation and lambda = 0.01"
   ]
  },
  {
   "cell_type": "code",
   "execution_count": 14,
   "metadata": {},
   "outputs": [
    {
     "name": "stdout",
     "output_type": "stream",
     "text": [
      "===============Fold report==================\n",
      "Accuracy:0.977\n",
      "Precision:0.953\n",
      "Recall:1.000\n",
      "===============Fold report==================\n",
      "Accuracy:0.977\n",
      "Precision:0.976\n",
      "Recall:0.976\n",
      "===============Fold report==================\n",
      "Accuracy:0.909\n",
      "Precision:0.841\n",
      "Recall:0.974\n",
      "===============Fold report==================\n",
      "Accuracy:0.955\n",
      "Precision:0.917\n",
      "Recall:0.971\n",
      "===============Fold report==================\n",
      "Accuracy:0.943\n",
      "Precision:0.909\n",
      "Recall:0.976\n",
      "===============Final report=================\n",
      "Accuracy:0.952 0.025\n",
      "Precision:0.919 0.046\n",
      "Recall:0.979 0.011\n",
      "Area under ROC 0.979\n"
     ]
    }
   ],
   "source": [
    "!python3 ../src/logreg.py ../440data/voting 1 0.01 0"
   ]
  },
  {
   "cell_type": "markdown",
   "metadata": {},
   "source": [
    "## Problem(b)"
   ]
  },
  {
   "cell_type": "code",
   "execution_count": 41,
   "metadata": {},
   "outputs": [
    {
     "name": "stdout",
     "output_type": "stream",
     "text": [
      "===============Fold report==================\n",
      "Accuracy:0.977\n",
      "Precision:0.953\n",
      "Recall:1.000\n",
      "===============Fold report==================\n",
      "Accuracy:0.977\n",
      "Precision:0.976\n",
      "Recall:0.976\n",
      "===============Fold report==================\n",
      "Accuracy:0.909\n",
      "Precision:0.841\n",
      "Recall:0.974\n",
      "===============Fold report==================\n",
      "Accuracy:0.955\n",
      "Precision:0.917\n",
      "Recall:0.971\n",
      "===============Fold report==================\n",
      "Accuracy:0.943\n",
      "Precision:0.909\n",
      "Recall:0.976\n",
      "===============Final report=================\n",
      "Accuracy:0.952 0.025\n",
      "Precision:0.919 0.046\n",
      "Recall:0.979 0.011\n",
      "Area under ROC 0.979\n"
     ]
    }
   ],
   "source": [
    "!python3 ../src/logreg.py ../440data/voting 1 0.01 1"
   ]
  },
  {
   "cell_type": "code",
   "execution_count": 42,
   "metadata": {},
   "outputs": [
    {
     "data": {
      "image/png": "[encoded data removed]",
      "text/plain": [
       "<PIL.PngImagePlugin.PngImageFile image mode=RGBA size=700x500>"
      ]
     },
     "execution_count": 42,
     "metadata": {},
     "output_type": "execute_result"
    }
   ],
   "source": [
    "Image.open('voting_001.png')"
   ]
  },
  {
   "cell_type": "code",
   "execution_count": 9,
   "metadata": {},
   "outputs": [
    {
     "name": "stdout",
     "output_type": "stream",
     "text": [
      "===============Fold report==================\n",
      "Accuracy:0.977\n",
      "Precision:0.953\n",
      "Recall:1.000\n",
      "===============Fold report==================\n",
      "Accuracy:0.977\n",
      "Precision:0.976\n",
      "Recall:0.976\n",
      "===============Fold report==================\n",
      "Accuracy:0.909\n",
      "Precision:0.841\n",
      "Recall:0.974\n",
      "===============Fold report==================\n",
      "Accuracy:0.955\n",
      "Precision:0.917\n",
      "Recall:0.971\n",
      "===============Fold report==================\n",
      "Accuracy:0.943\n",
      "Precision:0.909\n",
      "Recall:0.976\n",
      "===============Final report=================\n",
      "Accuracy:0.952 0.025\n",
      "Precision:0.919 0.046\n",
      "Recall:0.979 0.011\n",
      "Area under ROC 0.979\n"
     ]
    }
   ],
   "source": [
    "!python3 ../src/logreg.py ../440data/voting 1 0.1 1"
   ]
  },
  {
   "cell_type": "code",
   "execution_count": 10,
   "metadata": {},
   "outputs": [
    {
     "data": {
      "image/png": "[encoded data removed]",
      "text/plain": [
       "<PIL.PngImagePlugin.PngImageFile image mode=RGBA size=700x500>"
      ]
     },
     "execution_count": 10,
     "metadata": {},
     "output_type": "execute_result"
    }
   ],
   "source": [
    "Image.open('01.png')"
   ]
  },
  {
   "cell_type": "code",
   "execution_count": 43,
   "metadata": {},
   "outputs": [
    {
     "name": "stdout",
     "output_type": "stream",
     "text": [
      "===============Fold report==================\n",
      "Accuracy:0.977\n",
      "Precision:0.953\n",
      "Recall:1.000\n",
      "===============Fold report==================\n",
      "Accuracy:0.977\n",
      "Precision:0.976\n",
      "Recall:0.976\n",
      "===============Fold report==================\n",
      "Accuracy:0.909\n",
      "Precision:0.841\n",
      "Recall:0.974\n",
      "===============Fold report==================\n",
      "Accuracy:0.955\n",
      "Precision:0.917\n",
      "Recall:0.971\n",
      "===============Fold report==================\n",
      "Accuracy:0.943\n",
      "Precision:0.909\n",
      "Recall:0.976\n",
      "===============Final report=================\n",
      "Accuracy:0.952 0.025\n",
      "Precision:0.919 0.046\n",
      "Recall:0.979 0.011\n",
      "Area under ROC 0.979\n"
     ]
    }
   ],
   "source": [
    "!python3 ../src/logreg.py ../440data/voting 1 0.001 1"
   ]
  },
  {
   "cell_type": "code",
   "execution_count": 45,
   "metadata": {},
   "outputs": [
    {
     "data": {
      "image/png": "[encoded data removed]",
      "text/plain": [
       "<PIL.PngImagePlugin.PngImageFile image mode=RGBA size=700x500>"
      ]
     },
     "execution_count": 45,
     "metadata": {},
     "output_type": "execute_result"
    }
   ],
   "source": [
    "Image.open('voting_0001.png')"
   ]
  },
  {
   "cell_type": "code",
   "execution_count": 46,
   "metadata": {},
   "outputs": [
    {
     "name": "stdout",
     "output_type": "stream",
     "text": [
      "===============Fold report==================\n",
      "Accuracy:0.977\n",
      "Precision:0.953\n",
      "Recall:1.000\n",
      "===============Fold report==================\n",
      "Accuracy:0.977\n",
      "Precision:0.976\n",
      "Recall:0.976\n",
      "===============Fold report==================\n",
      "Accuracy:0.909\n",
      "Precision:0.841\n",
      "Recall:0.974\n",
      "===============Fold report==================\n",
      "Accuracy:0.955\n",
      "Precision:0.917\n",
      "Recall:0.971\n",
      "===============Fold report==================\n",
      "Accuracy:0.943\n",
      "Precision:0.909\n",
      "Recall:0.976\n",
      "===============Final report=================\n",
      "Accuracy:0.952 0.025\n",
      "Precision:0.919 0.046\n",
      "Recall:0.979 0.011\n",
      "Area under ROC 0.979\n"
     ]
    }
   ],
   "source": [
    "!python3 ../src/logreg.py ../440data/voting 1 0.1 1"
   ]
  },
  {
   "cell_type": "code",
   "execution_count": 16,
   "metadata": {},
   "outputs": [
    {
     "name": "stdout",
     "output_type": "stream",
     "text": [
      "===============Fold report==================\n",
      "Accuracy:0.801\n",
      "Precision:0.728\n",
      "Recall:0.686\n",
      "===============Fold report==================\n",
      "Accuracy:0.720\n",
      "Precision:0.530\n",
      "Recall:0.774\n",
      "===============Fold report==================\n",
      "Accuracy:0.814\n",
      "Precision:0.766\n",
      "Recall:0.638\n",
      "===============Fold report==================\n",
      "Accuracy:0.762\n",
      "Precision:0.652\n",
      "Recall:0.589\n",
      "===============Fold report==================\n",
      "Accuracy:0.709\n",
      "Precision:1.000\n",
      "Recall:0.091\n",
      "===============Final report=================\n",
      "Accuracy:0.761 0.042\n",
      "Precision:0.735 0.155\n",
      "Recall:0.555 0.240\n",
      "Area under ROC 0.540\n"
     ]
    }
   ],
   "source": [
    "!python3 ../src/logreg.py ../440data/volcanoes 1 0.1 1"
   ]
  },
  {
   "cell_type": "code",
   "execution_count": 47,
   "metadata": {},
   "outputs": [
    {
     "data": {
      "image/png": "[encoded data removed]",
      "text/plain": [
       "<PIL.PngImagePlugin.PngImageFile image mode=RGBA size=700x500>"
      ]
     },
     "execution_count": 47,
     "metadata": {},
     "output_type": "execute_result"
    }
   ],
   "source": [
    "Image.open('voting_01.png')"
   ]
  },
  {
   "cell_type": "code",
   "execution_count": 48,
   "metadata": {},
   "outputs": [
    {
     "name": "stdout",
     "output_type": "stream",
     "text": [
      "===============Fold report==================\n",
      "Accuracy:0.977\n",
      "Precision:0.953\n",
      "Recall:1.000\n",
      "===============Fold report==================\n",
      "Accuracy:0.977\n",
      "Precision:0.976\n",
      "Recall:0.976\n",
      "===============Fold report==================\n",
      "Accuracy:0.909\n",
      "Precision:0.841\n",
      "Recall:0.974\n",
      "===============Fold report==================\n",
      "Accuracy:0.955\n",
      "Precision:0.917\n",
      "Recall:0.971\n",
      "===============Fold report==================\n",
      "Accuracy:0.943\n",
      "Precision:0.909\n",
      "Recall:0.976\n",
      "===============Final report=================\n",
      "Accuracy:0.952 0.025\n",
      "Precision:0.919 0.046\n",
      "Recall:0.979 0.011\n",
      "Area under ROC 0.979\n"
     ]
    }
   ],
   "source": [
    "!python3 ../src/logreg.py ../440data/voting 1 0 1"
   ]
  },
  {
   "cell_type": "code",
   "execution_count": 49,
   "metadata": {},
   "outputs": [
    {
     "data": {
      "image/png": "[encoded data removed]",
      "text/plain": [
       "<PIL.PngImagePlugin.PngImageFile image mode=RGBA size=700x500>"
      ]
     },
     "execution_count": 49,
     "metadata": {},
     "output_type": "execute_result"
    }
   ],
   "source": [
    "Image.open('voting_00.png')"
   ]
  },
  {
   "cell_type": "code",
   "execution_count": 17,
   "metadata": {},
   "outputs": [
    {
     "data": {
      "image/png": "[encoded data removed]",
      "text/plain": [
       "<PIL.PngImagePlugin.PngImageFile image mode=RGBA size=700x500>"
      ]
     },
     "execution_count": 17,
     "metadata": {},
     "output_type": "execute_result"
    }
   ],
   "source": [
    "Image.open('volcanoes_01.png')"
   ]
  },
  {
   "cell_type": "code",
   "execution_count": 50,
   "metadata": {},
   "outputs": [
    {
     "name": "stdout",
     "output_type": "stream",
     "text": [
      "===============Fold report==================\n",
      "Accuracy:0.812\n",
      "Precision:0.853\n",
      "Recall:0.558\n",
      "===============Fold report==================\n",
      "Accuracy:0.791\n",
      "Precision:0.958\n",
      "Recall:0.336\n",
      "===============Fold report==================\n",
      "Accuracy:0.576\n",
      "Precision:0.435\n",
      "Recall:0.899\n",
      "===============Fold report==================\n",
      "Accuracy:0.715\n",
      "Precision:0.547\n",
      "Recall:0.753\n",
      "===============Fold report==================\n",
      "Accuracy:0.693\n",
      "Precision:1.000\n",
      "Recall:0.042\n",
      "===============Final report=================\n",
      "Accuracy:0.718 0.084\n",
      "Precision:0.759 0.226\n",
      "Recall:0.518 0.304\n",
      "Area under ROC 0.492\n"
     ]
    }
   ],
   "source": [
    "!python3 ../src/logreg.py ../440data/volcanoes 1 0 1"
   ]
  },
  {
   "cell_type": "code",
   "execution_count": 18,
   "metadata": {},
   "outputs": [
    {
     "name": "stdout",
     "output_type": "stream",
     "text": [
      "===============Fold report==================\n",
      "Accuracy:0.662\n",
      "Precision:0.510\n",
      "Recall:0.833\n",
      "===============Fold report==================\n",
      "Accuracy:0.706\n",
      "Precision:1.000\n",
      "Recall:0.044\n",
      "===============Fold report==================\n",
      "Accuracy:0.704\n",
      "Precision:0.538\n",
      "Recall:0.812\n",
      "===============Fold report==================\n",
      "Accuracy:0.563\n",
      "Precision:0.419\n",
      "Recall:0.863\n",
      "===============Fold report==================\n",
      "Accuracy:0.798\n",
      "Precision:0.757\n",
      "Recall:0.545\n",
      "===============Final report=================\n",
      "Accuracy:0.687 0.076\n",
      "Precision:0.645 0.210\n",
      "Recall:0.620 0.310\n",
      "Area under ROC 0.435\n"
     ]
    }
   ],
   "source": [
    "!python3 ../src/logreg.py ../440data/volcanoes 1 0.01 1"
   ]
  },
  {
   "cell_type": "code",
   "execution_count": 51,
   "metadata": {},
   "outputs": [
    {
     "data": {
      "image/png": "[encoded data removed]",
      "text/plain": [
       "<PIL.PngImagePlugin.PngImageFile image mode=RGBA size=700x500>"
      ]
     },
     "execution_count": 51,
     "metadata": {},
     "output_type": "execute_result"
    }
   ],
   "source": [
    "Image.open('volcanoes_00.png')"
   ]
  },
  {
   "cell_type": "code",
   "execution_count": 19,
   "metadata": {},
   "outputs": [
    {
     "data": {
      "image/png": "[encoded data removed]",
      "text/plain": [
       "<PIL.PngImagePlugin.PngImageFile image mode=RGBA size=700x500>"
      ]
     },
     "execution_count": 19,
     "metadata": {},
     "output_type": "execute_result"
    }
   ],
   "source": [
    "Image.open('volcanoes_001.png')"
   ]
  },
  {
   "cell_type": "code",
   "execution_count": 20,
   "metadata": {},
   "outputs": [
    {
     "name": "stdout",
     "output_type": "stream",
     "text": [
      "===============Fold report==================\n",
      "Accuracy:0.687\n",
      "Precision:0.533\n",
      "Recall:0.821\n",
      "===============Fold report==================\n",
      "Accuracy:0.823\n",
      "Precision:0.837\n",
      "Recall:0.526\n",
      "===============Fold report==================\n",
      "Accuracy:0.814\n",
      "Precision:0.750\n",
      "Recall:0.664\n",
      "===============Fold report==================\n",
      "Accuracy:0.605\n",
      "Precision:0.446\n",
      "Recall:0.849\n",
      "===============Fold report==================\n",
      "Accuracy:0.695\n",
      "Precision:1.000\n",
      "Recall:0.049\n",
      "===============Final report=================\n",
      "Accuracy:0.725 0.083\n",
      "Precision:0.713 0.201\n",
      "Recall:0.582 0.291\n",
      "Area under ROC 0.505\n"
     ]
    }
   ],
   "source": [
    "!python3 ../src/logreg.py ../440data/volcanoes 1 0.001 1"
   ]
  },
  {
   "cell_type": "code",
   "execution_count": 21,
   "metadata": {},
   "outputs": [
    {
     "data": {
      "image/png": "[encoded data removed]",
      "text/plain": [
       "<PIL.PngImagePlugin.PngImageFile image mode=RGBA size=700x500>"
      ]
     },
     "execution_count": 21,
     "metadata": {},
     "output_type": "execute_result"
    }
   ],
   "source": [
    "Image.open('volcanoes_0001.png')"
   ]
  },
  {
   "cell_type": "code",
   "execution_count": 52,
   "metadata": {},
   "outputs": [
    {
     "name": "stdout",
     "output_type": "stream",
     "text": [
      "/home/niyar/projects/dalal/naive-bayes/a2/notebooks/../src/logreg.py:16: RuntimeWarning: overflow encountered in exp\n",
      "  return 1 / (1 + np.exp(-z))\n",
      "===============Fold report==================\n",
      "Accuracy:0.624\n",
      "Precision:0.631\n",
      "Recall:0.956\n",
      "===============Fold report==================\n",
      "Accuracy:0.377\n",
      "Precision:0.545\n",
      "Recall:0.029\n",
      "===============Fold report==================\n",
      "Accuracy:0.629\n",
      "Precision:0.634\n",
      "Recall:0.973\n",
      "===============Fold report==================\n",
      "Accuracy:0.382\n",
      "Precision:0.502\n",
      "Recall:0.024\n",
      "===============Fold report==================\n",
      "Accuracy:0.376\n",
      "Precision:0.563\n",
      "Recall:0.039\n",
      "===============Final report=================\n",
      "Accuracy:0.478 0.121\n",
      "Precision:0.575 0.051\n",
      "Recall:0.404 0.457\n",
      "Area under ROC 0.178\n"
     ]
    }
   ],
   "source": [
    "!python3 ../src/logreg.py ../440data/spam 1 0 1"
   ]
  },
  {
   "cell_type": "code",
   "execution_count": 53,
   "metadata": {},
   "outputs": [
    {
     "data": {
      "image/png": "[encoded data removed]",
      "text/plain": [
       "<PIL.PngImagePlugin.PngImageFile image mode=RGBA size=700x500>"
      ]
     },
     "execution_count": 53,
     "metadata": {},
     "output_type": "execute_result"
    }
   ],
   "source": [
    "Image.open('spam_00.png')"
   ]
  },
  {
   "cell_type": "code",
   "execution_count": 22,
   "metadata": {},
   "outputs": [
    {
     "name": "stdout",
     "output_type": "stream",
     "text": [
      "/home/niyar/projects/dalal/naive-bayes/a2/notebooks/../src/logreg.py:16: RuntimeWarning: overflow encountered in exp\n",
      "  return 1 / (1 + np.exp(-z))\n",
      "===============Fold report==================\n",
      "Accuracy:0.377\n",
      "Precision:0.500\n",
      "Recall:0.023\n",
      "===============Fold report==================\n",
      "Accuracy:0.630\n",
      "Precision:0.632\n",
      "Recall:0.975\n",
      "===============Fold report==================\n",
      "Accuracy:0.368\n",
      "Precision:0.494\n",
      "Recall:0.025\n",
      "===============Fold report==================\n",
      "Accuracy:0.382\n",
      "Precision:0.504\n",
      "Recall:0.025\n",
      "===============Fold report==================\n",
      "Accuracy:0.634\n",
      "Precision:0.635\n",
      "Recall:0.981\n",
      "===============Final report=================\n",
      "Accuracy:0.478 0.125\n",
      "Precision:0.553 0.066\n",
      "Recall:0.406 0.467\n",
      "Area under ROC 0.177\n"
     ]
    }
   ],
   "source": [
    "!python3 ../src/logreg.py ../440data/spam 1 0.1 1"
   ]
  },
  {
   "cell_type": "code",
   "execution_count": 23,
   "metadata": {},
   "outputs": [
    {
     "data": {
      "image/png": "[encoded data removed]",
      "text/plain": [
       "<PIL.PngImagePlugin.PngImageFile image mode=RGBA size=700x500>"
      ]
     },
     "execution_count": 23,
     "metadata": {},
     "output_type": "execute_result"
    }
   ],
   "source": [
    "Image.open('spam_01.png')"
   ]
  },
  {
   "cell_type": "code",
   "execution_count": 26,
   "metadata": {},
   "outputs": [
    {
     "name": "stdout",
     "output_type": "stream",
     "text": [
      "/home/niyar/projects/dalal/naive-bayes/a2/notebooks/../src/logreg.py:16: RuntimeWarning: overflow encountered in exp\n",
      "  return 1 / (1 + np.exp(-z))\n",
      "===============Fold report==================\n",
      "Accuracy:0.624\n",
      "Precision:0.630\n",
      "Recall:0.960\n",
      "===============Fold report==================\n",
      "Accuracy:0.628\n",
      "Precision:0.630\n",
      "Recall:0.979\n",
      "===============Fold report==================\n",
      "Accuracy:0.628\n",
      "Precision:0.636\n",
      "Recall:0.965\n",
      "===============Fold report==================\n",
      "Accuracy:0.617\n",
      "Precision:0.625\n",
      "Recall:0.950\n",
      "===============Fold report==================\n",
      "Accuracy:0.633\n",
      "Precision:0.639\n",
      "Recall:0.958\n",
      "===============Final report=================\n",
      "Accuracy:0.626 0.005\n",
      "Precision:0.632 0.005\n",
      "Recall:0.962 0.010\n",
      "Area under ROC 0.001\n"
     ]
    }
   ],
   "source": [
    "!python3 ../src/logreg.py ../440data/spam 1 0.01 1"
   ]
  },
  {
   "cell_type": "code",
   "execution_count": 25,
   "metadata": {},
   "outputs": [
    {
     "data": {
      "image/png": "[encoded data removed]",
      "text/plain": [
       "<PIL.PngImagePlugin.PngImageFile image mode=RGBA size=700x500>"
      ]
     },
     "execution_count": 25,
     "metadata": {},
     "output_type": "execute_result"
    }
   ],
   "source": [
    "Image.open('spam_001.png')"
   ]
  },
  {
   "cell_type": "code",
   "execution_count": 27,
   "metadata": {},
   "outputs": [
    {
     "name": "stdout",
     "output_type": "stream",
     "text": [
      "/home/niyar/projects/dalal/naive-bayes/a2/notebooks/../src/logreg.py:16: RuntimeWarning: overflow encountered in exp\n",
      "  return 1 / (1 + np.exp(-z))\n",
      "===============Fold report==================\n",
      "Accuracy:0.377\n",
      "Precision:0.494\n",
      "Recall:0.025\n",
      "===============Fold report==================\n",
      "Accuracy:0.381\n",
      "Precision:0.945\n",
      "Recall:0.011\n",
      "===============Fold report==================\n",
      "Accuracy:0.368\n",
      "Precision:0.497\n",
      "Recall:0.026\n",
      "===============Fold report==================\n",
      "Accuracy:0.618\n",
      "Precision:0.626\n",
      "Recall:0.947\n",
      "===============Fold report==================\n",
      "Accuracy:0.634\n",
      "Precision:0.638\n",
      "Recall:0.964\n",
      "===============Final report=================\n",
      "Accuracy:0.476 0.123\n",
      "Precision:0.640 0.164\n",
      "Recall:0.395 0.458\n",
      "Area under ROC 0.186\n"
     ]
    }
   ],
   "source": [
    "!python3 ../src/logreg.py ../440data/spam 1 0.001 1"
   ]
  },
  {
   "cell_type": "code",
   "execution_count": 28,
   "metadata": {},
   "outputs": [
    {
     "data": {
      "image/png": "[encoded data removed]",
      "text/plain": [
       "<PIL.PngImagePlugin.PngImageFile image mode=RGBA size=700x500>"
      ]
     },
     "execution_count": 28,
     "metadata": {},
     "output_type": "execute_result"
    }
   ],
   "source": [
    "Image.open('spam_0001.png')"
   ]
  },
  {
   "cell_type": "markdown",
   "metadata": {},
   "source": [
    "As observed, as the parameter λ increases, accuracy initially rises and then starts to decline.(for volcanoe dataset)"
   ]
  },
  {
   "cell_type": "markdown",
   "metadata": {},
   "source": [
    "## Part(C)"
   ]
  },
  {
   "cell_type": "markdown",
   "metadata": {},
   "source": [
    "Lets try to study how the variation of number of bins in naive bayes will affect the accuracy and performance in volcanoes dataset."
   ]
  },
  {
   "cell_type": "markdown",
   "metadata": {},
   "source": [
    "#### Number of bins = 5"
   ]
  },
  {
   "cell_type": "code",
   "execution_count": 31,
   "metadata": {},
   "outputs": [
    {
     "name": "stdout",
     "output_type": "stream",
     "text": [
      "===============Final report=================\n",
      "Accuracy:0.633 0.000\n",
      "Precision:0.466 0.000\n",
      "Recall:0.819 0.000\n",
      "Area under ROC 0.500\n"
     ]
    }
   ],
   "source": [
    "!python3 ../src/nbayes.py ../440data/volcanoes 0 5 0.01 "
   ]
  },
  {
   "cell_type": "markdown",
   "metadata": {},
   "source": [
    "#### Number of bins = 10"
   ]
  },
  {
   "cell_type": "code",
   "execution_count": 35,
   "metadata": {},
   "outputs": [
    {
     "name": "stdout",
     "output_type": "stream",
     "text": [
      "===============Final report=================\n",
      "Accuracy:0.635 0.000\n",
      "Precision:0.468 0.000\n",
      "Recall:0.832 0.000\n",
      "Area under ROC 0.500\n"
     ]
    }
   ],
   "source": [
    "!python3 ../src/nbayes.py ../440data/volcanoes 0 10 0.01 "
   ]
  },
  {
   "cell_type": "markdown",
   "metadata": {},
   "source": [
    "#### Number of bins = 30"
   ]
  },
  {
   "cell_type": "code",
   "execution_count": 37,
   "metadata": {},
   "outputs": [
    {
     "name": "stdout",
     "output_type": "stream",
     "text": [
      "===============Final report=================\n",
      "Accuracy:0.648 0.000\n",
      "Precision:0.479 0.000\n",
      "Recall:0.844 0.000\n",
      "Area under ROC 0.500\n"
     ]
    }
   ],
   "source": [
    "!python3 ../src/nbayes.py ../440data/volcanoes 0 30 0.01 "
   ]
  },
  {
   "cell_type": "markdown",
   "metadata": {},
   "source": [
    "#### Number of bins = 100"
   ]
  },
  {
   "cell_type": "code",
   "execution_count": 38,
   "metadata": {},
   "outputs": [
    {
     "name": "stdout",
     "output_type": "stream",
     "text": [
      "===============Final report=================\n",
      "Accuracy:0.705 0.000\n",
      "Precision:0.530 0.000\n",
      "Recall:0.870 0.000\n",
      "Area under ROC 0.500\n"
     ]
    }
   ],
   "source": [
    "!python3 ../src/nbayes.py ../440data/volcanoes 0 100 0.01 "
   ]
  },
  {
   "cell_type": "markdown",
   "metadata": {},
   "source": [
    "#### Number of bins = 320"
   ]
  },
  {
   "cell_type": "code",
   "execution_count": 39,
   "metadata": {},
   "outputs": [
    {
     "name": "stdout",
     "output_type": "stream",
     "text": [
      "===============Final report=================\n",
      "Accuracy:0.737 0.000\n",
      "Precision:0.563 0.000\n",
      "Recall:0.877 0.000\n",
      "Area under ROC 0.500\n"
     ]
    }
   ],
   "source": [
    "!python3 ../src/nbayes.py ../440data/volcanoes 0 320 0.01 "
   ]
  },
  {
   "cell_type": "markdown",
   "metadata": {},
   "source": [
    "#### Number of bins = 520"
   ]
  },
  {
   "cell_type": "code",
   "execution_count": 40,
   "metadata": {},
   "outputs": [
    {
     "name": "stdout",
     "output_type": "stream",
     "text": [
      "===============Final report=================\n",
      "Accuracy:0.737 0.000\n",
      "Precision:0.563 0.000\n",
      "Recall:0.877 0.000\n",
      "Area under ROC 0.500\n"
     ]
    }
   ],
   "source": [
    "!python3 ../src/nbayes.py ../440data/volcanoes 0 520 0.01 "
   ]
  },
  {
   "cell_type": "markdown",
   "metadata": {},
   "source": [
    "### Analysis"
   ]
  },
  {
   "cell_type": "markdown",
   "metadata": {},
   "source": [
    "We can see that on increasing the number of bins accuracy has been increasing but after a threshold it doenot seem to increase and hence overfits on the dataset. Thus choosing number of bins perfectly can give better results."
   ]
  }
 ],
 "metadata": {
  "kernelspec": {
   "display_name": "torch",
   "language": "python",
   "name": "python3"
  },
  "language_info": {
   "codemirror_mode": {
    "name": "ipython",
    "version": 3
   },
   "file_extension": ".py",
   "mimetype": "text/x-python",
   "name": "python",
   "nbconvert_exporter": "python",
   "pygments_lexer": "ipython3",
   "version": "3.10.12"
  }
 },
 "nbformat": 4,
 "nbformat_minor": 2
}
